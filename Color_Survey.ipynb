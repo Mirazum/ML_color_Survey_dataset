{
 "cells": [
  {
   "cell_type": "code",
   "execution_count": 1,
   "metadata": {},
   "outputs": [],
   "source": [
    "import pandas as pd\n",
    "import numpy as np\n",
    "%matplotlib inline\n",
    "import pandas as pd\n",
    "import matplotlib.pyplot as plt\n",
    "import numpy as np\n",
    "#import mglearn\n",
    "#from IPython.display import display\n",
    "import warnings\n",
    "warnings.filterwarnings(\"ignore\")\n",
    "from matplotlib import rc"
   ]
  },
  {
   "cell_type": "code",
   "execution_count": 2,
   "metadata": {},
   "outputs": [],
   "source": [
    "from sklearn import preprocessing\n",
    "from sklearn.model_selection import train_test_split\n",
    "from sklearn.pipeline import make_pipeline,Pipeline\n",
    "from sklearn.model_selection import GridSearchCV\n",
    "from sklearn.preprocessing import StandardScaler\n",
    "from sklearn.decomposition import PCA\n",
    "from sklearn.ensemble import RandomForestClassifier\n",
    "from sklearn.metrics import mean_squared_error"
   ]
  },
  {
   "cell_type": "code",
   "execution_count": 3,
   "metadata": {},
   "outputs": [],
   "source": [
    "data= pd.read_csv(\"color_survey_answers.csv\",  sep='\\t')"
   ]
  },
  {
   "cell_type": "code",
   "execution_count": 4,
   "metadata": {},
   "outputs": [
    {
     "data": {
      "text/html": [
       "<div>\n",
       "<style scoped>\n",
       "    .dataframe tbody tr th:only-of-type {\n",
       "        vertical-align: middle;\n",
       "    }\n",
       "\n",
       "    .dataframe tbody tr th {\n",
       "        vertical-align: top;\n",
       "    }\n",
       "\n",
       "    .dataframe thead th {\n",
       "        text-align: right;\n",
       "    }\n",
       "</style>\n",
       "<table border=\"1\" class=\"dataframe\">\n",
       "  <thead>\n",
       "    <tr style=\"text-align: right;\">\n",
       "      <th></th>\n",
       "      <th>id</th>\n",
       "      <th>user_id</th>\n",
       "      <th>datestamp</th>\n",
       "      <th>r</th>\n",
       "      <th>g</th>\n",
       "      <th>b</th>\n",
       "      <th>colorname</th>\n",
       "    </tr>\n",
       "  </thead>\n",
       "  <tbody>\n",
       "    <tr>\n",
       "      <th>0</th>\n",
       "      <td>1</td>\n",
       "      <td>1</td>\n",
       "      <td>1.267419e+09</td>\n",
       "      <td>72</td>\n",
       "      <td>100</td>\n",
       "      <td>175</td>\n",
       "      <td>pastel blue</td>\n",
       "    </tr>\n",
       "    <tr>\n",
       "      <th>1</th>\n",
       "      <td>2</td>\n",
       "      <td>1</td>\n",
       "      <td>1.267419e+09</td>\n",
       "      <td>204</td>\n",
       "      <td>177</td>\n",
       "      <td>246</td>\n",
       "      <td>faint violet</td>\n",
       "    </tr>\n",
       "    <tr>\n",
       "      <th>2</th>\n",
       "      <td>3</td>\n",
       "      <td>1</td>\n",
       "      <td>1.267419e+09</td>\n",
       "      <td>182</td>\n",
       "      <td>226</td>\n",
       "      <td>245</td>\n",
       "      <td>baby blue</td>\n",
       "    </tr>\n",
       "    <tr>\n",
       "      <th>3</th>\n",
       "      <td>4</td>\n",
       "      <td>1</td>\n",
       "      <td>1.267419e+09</td>\n",
       "      <td>130</td>\n",
       "      <td>64</td>\n",
       "      <td>234</td>\n",
       "      <td>purple</td>\n",
       "    </tr>\n",
       "    <tr>\n",
       "      <th>4</th>\n",
       "      <td>5</td>\n",
       "      <td>2</td>\n",
       "      <td>1.267419e+09</td>\n",
       "      <td>75</td>\n",
       "      <td>49</td>\n",
       "      <td>234</td>\n",
       "      <td>blue</td>\n",
       "    </tr>\n",
       "  </tbody>\n",
       "</table>\n",
       "</div>"
      ],
      "text/plain": [
       "   id  user_id     datestamp    r    g    b     colorname\n",
       "0   1        1  1.267419e+09   72  100  175   pastel blue\n",
       "1   2        1  1.267419e+09  204  177  246  faint violet\n",
       "2   3        1  1.267419e+09  182  226  245     baby blue\n",
       "3   4        1  1.267419e+09  130   64  234        purple\n",
       "4   5        2  1.267419e+09   75   49  234          blue"
      ]
     },
     "execution_count": 4,
     "metadata": {},
     "output_type": "execute_result"
    }
   ],
   "source": [
    "data.head()\n"
   ]
  },
  {
   "cell_type": "code",
   "execution_count": 5,
   "metadata": {},
   "outputs": [
    {
     "data": {
      "text/plain": [
       "Index(['id', 'user_id', 'datestamp', 'r', 'g', 'b', 'colorname'], dtype='object')"
      ]
     },
     "execution_count": 5,
     "metadata": {},
     "output_type": "execute_result"
    }
   ],
   "source": [
    "data.columns"
   ]
  },
  {
   "cell_type": "code",
   "execution_count": 6,
   "metadata": {},
   "outputs": [
    {
     "name": "stdout",
     "output_type": "stream",
     "text": [
      "<class 'pandas.core.frame.DataFrame'>\n",
      "RangeIndex: 3363127 entries, 0 to 3363126\n",
      "Data columns (total 7 columns):\n",
      "id           int64\n",
      "user_id      int64\n",
      "datestamp    float64\n",
      "r            int64\n",
      "g            int64\n",
      "b            int64\n",
      "colorname    object\n",
      "dtypes: float64(1), int64(5), object(1)\n",
      "memory usage: 179.6+ MB\n"
     ]
    }
   ],
   "source": [
    "data.info()"
   ]
  },
  {
   "cell_type": "code",
   "execution_count": 7,
   "metadata": {},
   "outputs": [],
   "source": [
    "#converting date from float to datetime\n",
    "from datetime import datetime\n",
    "data['datestamp'] = pd.to_datetime(data['datestamp'],unit='s')"
   ]
  },
  {
   "cell_type": "code",
   "execution_count": 8,
   "metadata": {},
   "outputs": [
    {
     "name": "stdout",
     "output_type": "stream",
     "text": [
      "1734\n"
     ]
    }
   ],
   "source": [
    "# to check the null value in the dataset\n",
    "print(data.isnull().values.sum())"
   ]
  },
  {
   "cell_type": "code",
   "execution_count": 9,
   "metadata": {},
   "outputs": [],
   "source": [
    "#data[\"colorname\"].value_counts()"
   ]
  },
  {
   "cell_type": "code",
   "execution_count": 10,
   "metadata": {},
   "outputs": [],
   "source": [
    "data = data.fillna({\"colorname\": \"green\"})"
   ]
  },
  {
   "cell_type": "code",
   "execution_count": 11,
   "metadata": {},
   "outputs": [],
   "source": [
    "#extracting new colours into another dataframe from original"
   ]
  },
  {
   "cell_type": "code",
   "execution_count": 12,
   "metadata": {},
   "outputs": [],
   "source": [
    "new_colour = data[data['colorname'] == 'impatiens juice'].copy()"
   ]
  },
  {
   "cell_type": "code",
   "execution_count": 13,
   "metadata": {},
   "outputs": [],
   "source": [
    "new_colour = data[data['colorname'] == 'caribbean surf'].append(new_colour)"
   ]
  },
  {
   "cell_type": "code",
   "execution_count": 14,
   "metadata": {},
   "outputs": [],
   "source": [
    "new_colour = data[data['colorname'] == 'medium tan leather'].append(new_colour)"
   ]
  },
  {
   "cell_type": "code",
   "execution_count": 15,
   "metadata": {},
   "outputs": [],
   "source": [
    "new_colour = data[data['colorname'] == 'babypoo'].append(new_colour)"
   ]
  },
  {
   "cell_type": "code",
   "execution_count": 16,
   "metadata": {},
   "outputs": [],
   "source": [
    "#new_colour.tail()"
   ]
  },
  {
   "cell_type": "code",
   "execution_count": 17,
   "metadata": {},
   "outputs": [
    {
     "name": "stdout",
     "output_type": "stream",
     "text": [
      "<class 'pandas.core.frame.DataFrame'>\n",
      "Int64Index: 8 entries, 185291 to 3170468\n",
      "Data columns (total 7 columns):\n",
      "id           8 non-null int64\n",
      "user_id      8 non-null int64\n",
      "datestamp    8 non-null datetime64[ns]\n",
      "r            8 non-null int64\n",
      "g            8 non-null int64\n",
      "b            8 non-null int64\n",
      "colorname    8 non-null object\n",
      "dtypes: datetime64[ns](1), int64(5), object(1)\n",
      "memory usage: 512.0+ bytes\n"
     ]
    }
   ],
   "source": [
    "new_colour.info()"
   ]
  },
  {
   "cell_type": "code",
   "execution_count": 18,
   "metadata": {},
   "outputs": [],
   "source": [
    "#increasing the occurance of new colours\n",
    "new_colour = new_colour.append([new_colour]*20)"
   ]
  },
  {
   "cell_type": "code",
   "execution_count": 19,
   "metadata": {},
   "outputs": [
    {
     "name": "stdout",
     "output_type": "stream",
     "text": [
      "<class 'pandas.core.frame.DataFrame'>\n",
      "Int64Index: 168 entries, 185291 to 3170468\n",
      "Data columns (total 7 columns):\n",
      "id           168 non-null int64\n",
      "user_id      168 non-null int64\n",
      "datestamp    168 non-null datetime64[ns]\n",
      "r            168 non-null int64\n",
      "g            168 non-null int64\n",
      "b            168 non-null int64\n",
      "colorname    168 non-null object\n",
      "dtypes: datetime64[ns](1), int64(5), object(1)\n",
      "memory usage: 10.5+ KB\n"
     ]
    }
   ],
   "source": [
    "new_colour.info()"
   ]
  },
  {
   "cell_type": "code",
   "execution_count": 20,
   "metadata": {},
   "outputs": [],
   "source": [
    "#combining new colours to the filtered original dataset\n",
    "data = pd.concat([data,new_colour],ignore_index=True)"
   ]
  },
  {
   "cell_type": "code",
   "execution_count": 21,
   "metadata": {},
   "outputs": [],
   "source": [
    "#data['colorname'].value_counts()"
   ]
  },
  {
   "cell_type": "code",
   "execution_count": 22,
   "metadata": {},
   "outputs": [],
   "source": [
    "#shuffling the dataset to have equal distribution of each colour in the dataset\n",
    "data= data.sample(frac = 1,random_state= 10).reset_index(drop = True)"
   ]
  },
  {
   "cell_type": "code",
   "execution_count": 23,
   "metadata": {},
   "outputs": [],
   "source": [
    "a= data['colorname'].value_counts()\n",
    "b=dict(a)\n",
    "c=list(b.keys())"
   ]
  },
  {
   "cell_type": "code",
   "execution_count": 24,
   "metadata": {},
   "outputs": [
    {
     "name": "stdout",
     "output_type": "stream",
     "text": [
      "(421, 7)\n"
     ]
    }
   ],
   "source": [
    "N=100\n",
    "data2=data[data.colorname.isin(c[:N])]\n",
    "print(data2.shape)"
   ]
  },
  {
   "cell_type": "markdown",
   "metadata": {},
   "source": [
    "# on_hot_encoding"
   ]
  },
  {
   "cell_type": "code",
   "execution_count": 25,
   "metadata": {},
   "outputs": [
    {
     "name": "stdout",
     "output_type": "stream",
     "text": [
      "(421, 106)\n"
     ]
    }
   ],
   "source": [
    "data_dummies=pd.get_dummies(data2, columns=[\"colorname\"])\n",
    "print(data_dummies.shape) "
   ]
  },
  {
   "cell_type": "code",
   "execution_count": 26,
   "metadata": {},
   "outputs": [
    {
     "data": {
      "text/html": [
       "<div>\n",
       "<style scoped>\n",
       "    .dataframe tbody tr th:only-of-type {\n",
       "        vertical-align: middle;\n",
       "    }\n",
       "\n",
       "    .dataframe tbody tr th {\n",
       "        vertical-align: top;\n",
       "    }\n",
       "\n",
       "    .dataframe thead th {\n",
       "        text-align: right;\n",
       "    }\n",
       "</style>\n",
       "<table border=\"1\" class=\"dataframe\">\n",
       "  <thead>\n",
       "    <tr style=\"text-align: right;\">\n",
       "      <th></th>\n",
       "      <th>id</th>\n",
       "      <th>user_id</th>\n",
       "      <th>datestamp</th>\n",
       "      <th>r</th>\n",
       "      <th>g</th>\n",
       "      <th>b</th>\n",
       "      <th>colorname_#249ef7</th>\n",
       "      <th>colorname_#b76081</th>\n",
       "      <th>colorname_#f3f918</th>\n",
       "      <th>colorname_571a57</th>\n",
       "      <th>...</th>\n",
       "      <th>colorname_terrible blue</th>\n",
       "      <th>colorname_tic-tac green</th>\n",
       "      <th>colorname_turqouise emerald</th>\n",
       "      <th>colorname_ugly green/yellow</th>\n",
       "      <th>colorname_venusian vagina</th>\n",
       "      <th>colorname_yellow pages yellow</th>\n",
       "      <th>colorname_yellow-geen</th>\n",
       "      <th>colorname_yellowish vomit</th>\n",
       "      <th>colorname_you just lost the game green that color is sort of an inside joke actually.</th>\n",
       "      <th>colorname_yurtle the turtle green</th>\n",
       "    </tr>\n",
       "  </thead>\n",
       "  <tbody>\n",
       "    <tr>\n",
       "      <th>2219</th>\n",
       "      <td>1949725</td>\n",
       "      <td>88436</td>\n",
       "      <td>2010-03-14 00:02:29</td>\n",
       "      <td>231</td>\n",
       "      <td>43</td>\n",
       "      <td>230</td>\n",
       "      <td>0</td>\n",
       "      <td>0</td>\n",
       "      <td>0</td>\n",
       "      <td>0</td>\n",
       "      <td>...</td>\n",
       "      <td>0</td>\n",
       "      <td>0</td>\n",
       "      <td>0</td>\n",
       "      <td>0</td>\n",
       "      <td>0</td>\n",
       "      <td>0</td>\n",
       "      <td>0</td>\n",
       "      <td>0</td>\n",
       "      <td>0</td>\n",
       "      <td>0</td>\n",
       "    </tr>\n",
       "    <tr>\n",
       "      <th>11085</th>\n",
       "      <td>2312803</td>\n",
       "      <td>104293</td>\n",
       "      <td>2010-03-18 01:46:33</td>\n",
       "      <td>189</td>\n",
       "      <td>251</td>\n",
       "      <td>94</td>\n",
       "      <td>0</td>\n",
       "      <td>0</td>\n",
       "      <td>0</td>\n",
       "      <td>0</td>\n",
       "      <td>...</td>\n",
       "      <td>0</td>\n",
       "      <td>0</td>\n",
       "      <td>0</td>\n",
       "      <td>0</td>\n",
       "      <td>0</td>\n",
       "      <td>0</td>\n",
       "      <td>0</td>\n",
       "      <td>0</td>\n",
       "      <td>0</td>\n",
       "      <td>0</td>\n",
       "    </tr>\n",
       "    <tr>\n",
       "      <th>20754</th>\n",
       "      <td>2403149</td>\n",
       "      <td>108128</td>\n",
       "      <td>2010-03-19 06:00:04</td>\n",
       "      <td>146</td>\n",
       "      <td>179</td>\n",
       "      <td>231</td>\n",
       "      <td>0</td>\n",
       "      <td>0</td>\n",
       "      <td>0</td>\n",
       "      <td>0</td>\n",
       "      <td>...</td>\n",
       "      <td>0</td>\n",
       "      <td>0</td>\n",
       "      <td>0</td>\n",
       "      <td>0</td>\n",
       "      <td>0</td>\n",
       "      <td>0</td>\n",
       "      <td>0</td>\n",
       "      <td>0</td>\n",
       "      <td>0</td>\n",
       "      <td>0</td>\n",
       "    </tr>\n",
       "    <tr>\n",
       "      <th>21979</th>\n",
       "      <td>99729</td>\n",
       "      <td>5644</td>\n",
       "      <td>2010-03-01 15:37:33</td>\n",
       "      <td>30</td>\n",
       "      <td>179</td>\n",
       "      <td>38</td>\n",
       "      <td>0</td>\n",
       "      <td>0</td>\n",
       "      <td>0</td>\n",
       "      <td>0</td>\n",
       "      <td>...</td>\n",
       "      <td>0</td>\n",
       "      <td>0</td>\n",
       "      <td>0</td>\n",
       "      <td>0</td>\n",
       "      <td>0</td>\n",
       "      <td>0</td>\n",
       "      <td>0</td>\n",
       "      <td>0</td>\n",
       "      <td>0</td>\n",
       "      <td>0</td>\n",
       "    </tr>\n",
       "    <tr>\n",
       "      <th>25341</th>\n",
       "      <td>2105988</td>\n",
       "      <td>95482</td>\n",
       "      <td>2010-03-15 22:09:12</td>\n",
       "      <td>46</td>\n",
       "      <td>117</td>\n",
       "      <td>51</td>\n",
       "      <td>0</td>\n",
       "      <td>0</td>\n",
       "      <td>0</td>\n",
       "      <td>0</td>\n",
       "      <td>...</td>\n",
       "      <td>0</td>\n",
       "      <td>0</td>\n",
       "      <td>0</td>\n",
       "      <td>0</td>\n",
       "      <td>0</td>\n",
       "      <td>0</td>\n",
       "      <td>0</td>\n",
       "      <td>0</td>\n",
       "      <td>0</td>\n",
       "      <td>0</td>\n",
       "    </tr>\n",
       "  </tbody>\n",
       "</table>\n",
       "<p>5 rows × 106 columns</p>\n",
       "</div>"
      ],
      "text/plain": [
       "            id  user_id           datestamp    r    g    b  colorname_#249ef7  \\\n",
       "2219   1949725    88436 2010-03-14 00:02:29  231   43  230                  0   \n",
       "11085  2312803   104293 2010-03-18 01:46:33  189  251   94                  0   \n",
       "20754  2403149   108128 2010-03-19 06:00:04  146  179  231                  0   \n",
       "21979    99729     5644 2010-03-01 15:37:33   30  179   38                  0   \n",
       "25341  2105988    95482 2010-03-15 22:09:12   46  117   51                  0   \n",
       "\n",
       "       colorname_#b76081  colorname_#f3f918  colorname_571a57  \\\n",
       "2219                   0                  0                 0   \n",
       "11085                  0                  0                 0   \n",
       "20754                  0                  0                 0   \n",
       "21979                  0                  0                 0   \n",
       "25341                  0                  0                 0   \n",
       "\n",
       "                     ...                  colorname_terrible blue  \\\n",
       "2219                 ...                                        0   \n",
       "11085                ...                                        0   \n",
       "20754                ...                                        0   \n",
       "21979                ...                                        0   \n",
       "25341                ...                                        0   \n",
       "\n",
       "       colorname_tic-tac green  colorname_turqouise emerald  \\\n",
       "2219                         0                            0   \n",
       "11085                        0                            0   \n",
       "20754                        0                            0   \n",
       "21979                        0                            0   \n",
       "25341                        0                            0   \n",
       "\n",
       "       colorname_ugly green/yellow  colorname_venusian vagina  \\\n",
       "2219                             0                          0   \n",
       "11085                            0                          0   \n",
       "20754                            0                          0   \n",
       "21979                            0                          0   \n",
       "25341                            0                          0   \n",
       "\n",
       "       colorname_yellow pages yellow  colorname_yellow-geen  \\\n",
       "2219                               0                      0   \n",
       "11085                              0                      0   \n",
       "20754                              0                      0   \n",
       "21979                              0                      0   \n",
       "25341                              0                      0   \n",
       "\n",
       "       colorname_yellowish vomit  \\\n",
       "2219                           0   \n",
       "11085                          0   \n",
       "20754                          0   \n",
       "21979                          0   \n",
       "25341                          0   \n",
       "\n",
       "       colorname_you just lost the game green that color is sort of an inside joke actually.  \\\n",
       "2219                                                   0                                       \n",
       "11085                                                  0                                       \n",
       "20754                                                  0                                       \n",
       "21979                                                  0                                       \n",
       "25341                                                  0                                       \n",
       "\n",
       "       colorname_yurtle the turtle green  \n",
       "2219                                   0  \n",
       "11085                                  0  \n",
       "20754                                  0  \n",
       "21979                                  0  \n",
       "25341                                  0  \n",
       "\n",
       "[5 rows x 106 columns]"
      ]
     },
     "execution_count": 26,
     "metadata": {},
     "output_type": "execute_result"
    }
   ],
   "source": [
    "data_dummies.head()"
   ]
  },
  {
   "cell_type": "code",
   "execution_count": 27,
   "metadata": {},
   "outputs": [],
   "source": [
    "# Split the data into features and target label\n",
    "y = data_dummies.iloc[:,6:].values\n",
    "X = data_dummies.iloc[:,3:6].values"
   ]
  },
  {
   "cell_type": "code",
   "execution_count": 28,
   "metadata": {},
   "outputs": [
    {
     "data": {
      "text/plain": [
       "(421, 3)"
      ]
     },
     "execution_count": 28,
     "metadata": {},
     "output_type": "execute_result"
    }
   ],
   "source": [
    "X.shape"
   ]
  },
  {
   "cell_type": "code",
   "execution_count": 29,
   "metadata": {},
   "outputs": [
    {
     "data": {
      "text/plain": [
       "(421, 100)"
      ]
     },
     "execution_count": 29,
     "metadata": {},
     "output_type": "execute_result"
    }
   ],
   "source": [
    "y.shape"
   ]
  },
  {
   "cell_type": "code",
   "execution_count": 30,
   "metadata": {},
   "outputs": [],
   "source": [
    "# train and test splitting the data\n",
    "X_train, X_test, y_train, y_test = train_test_split(X, y, test_size = 0.33, random_state = 0)"
   ]
  },
  {
   "cell_type": "code",
   "execution_count": 31,
   "metadata": {
    "scrolled": true
   },
   "outputs": [
    {
     "data": {
      "text/plain": [
       "(282, 3)"
      ]
     },
     "execution_count": 31,
     "metadata": {},
     "output_type": "execute_result"
    }
   ],
   "source": [
    "X_train.shape"
   ]
  },
  {
   "cell_type": "code",
   "execution_count": 32,
   "metadata": {},
   "outputs": [
    {
     "data": {
      "text/plain": [
       "(282, 100)"
      ]
     },
     "execution_count": 32,
     "metadata": {},
     "output_type": "execute_result"
    }
   ],
   "source": [
    "y_train.shape"
   ]
  },
  {
   "cell_type": "code",
   "execution_count": 33,
   "metadata": {},
   "outputs": [
    {
     "data": {
      "text/plain": [
       "DecisionTreeClassifier(class_weight=None, criterion='gini', max_depth=None,\n",
       "            max_features=None, max_leaf_nodes=None,\n",
       "            min_impurity_decrease=0.0, min_impurity_split=None,\n",
       "            min_samples_leaf=1, min_samples_split=2,\n",
       "            min_weight_fraction_leaf=0.0, presort=False, random_state=0,\n",
       "            splitter='best')"
      ]
     },
     "execution_count": 33,
     "metadata": {},
     "output_type": "execute_result"
    }
   ],
   "source": [
    "from sklearn.tree import DecisionTreeClassifier\n",
    "clf = DecisionTreeClassifier(random_state=0)\n",
    "clf.fit(X_train, y_train)"
   ]
  },
  {
   "cell_type": "code",
   "execution_count": 34,
   "metadata": {},
   "outputs": [
    {
     "name": "stdout",
     "output_type": "stream",
     "text": [
      "Test_Accuracy: 0.50\n",
      "Train_Accuracy: 1.00\n"
     ]
    }
   ],
   "source": [
    "print(\"Test_Accuracy: {:.2f}\".format(clf.score(X_test, y_test)))\n",
    "print(\"Train_Accuracy: {:.2f}\".format(clf.score(X_train, y_train)))"
   ]
  },
  {
   "cell_type": "code",
   "execution_count": 35,
   "metadata": {},
   "outputs": [],
   "source": [
    "f=np.array([102,226,245]).reshape(1,-1)\n",
    "color_list=list(data_dummies.columns[6:].values)"
   ]
  },
  {
   "cell_type": "code",
   "execution_count": 36,
   "metadata": {},
   "outputs": [],
   "source": [
    "pred = clf.predict(f)"
   ]
  },
  {
   "cell_type": "code",
   "execution_count": 37,
   "metadata": {},
   "outputs": [],
   "source": [
    "idx= pred.tolist()[0].index(1,0)"
   ]
  },
  {
   "cell_type": "code",
   "execution_count": 38,
   "metadata": {},
   "outputs": [],
   "source": [
    "#print(colors_list[idx])"
   ]
  },
  {
   "cell_type": "markdown",
   "metadata": {},
   "source": [
    "# custom binary encoding"
   ]
  },
  {
   "cell_type": "code",
   "execution_count": 39,
   "metadata": {},
   "outputs": [],
   "source": [
    "## Again taking a subset of quite large dataset\n",
    "#small_data_1 = data.sample(1000,random_state= 10)"
   ]
  },
  {
   "cell_type": "code",
   "execution_count": 40,
   "metadata": {},
   "outputs": [],
   "source": [
    "data['color_green'] = np.where(data['colorname'].str.contains('green'), 1, 0)"
   ]
  },
  {
   "cell_type": "code",
   "execution_count": 41,
   "metadata": {},
   "outputs": [],
   "source": [
    "data['color_red'] = np.where(data['colorname'].str.contains('red'), 1, 0)"
   ]
  },
  {
   "cell_type": "code",
   "execution_count": 42,
   "metadata": {},
   "outputs": [],
   "source": [
    "data['color_pink'] = np.where(data['colorname'].str.contains('pink'), 1, 0)"
   ]
  },
  {
   "cell_type": "code",
   "execution_count": 43,
   "metadata": {},
   "outputs": [],
   "source": [
    "data['color_blue'] = np.where(data['colorname'].str.contains('blue'), 1, 0)"
   ]
  },
  {
   "cell_type": "code",
   "execution_count": 44,
   "metadata": {},
   "outputs": [],
   "source": [
    "data['color_orange'] = np.where(data['colorname'].str.contains('orange'), 1, 0)"
   ]
  },
  {
   "cell_type": "code",
   "execution_count": 45,
   "metadata": {},
   "outputs": [],
   "source": [
    "data['color_yellow'] = np.where(data['colorname'].str.contains('yellow'), 1, 0)"
   ]
  },
  {
   "cell_type": "code",
   "execution_count": 46,
   "metadata": {},
   "outputs": [],
   "source": [
    "data['color_purple'] = np.where(data['colorname'].str.contains('purple'), 1, 0)"
   ]
  },
  {
   "cell_type": "code",
   "execution_count": 47,
   "metadata": {},
   "outputs": [],
   "source": [
    "data['color_tan'] = np.where(data['colorname'].str.contains('tan'), 1, 0)"
   ]
  },
  {
   "cell_type": "code",
   "execution_count": 48,
   "metadata": {
    "scrolled": true
   },
   "outputs": [
    {
     "data": {
      "text/html": [
       "<div>\n",
       "<style scoped>\n",
       "    .dataframe tbody tr th:only-of-type {\n",
       "        vertical-align: middle;\n",
       "    }\n",
       "\n",
       "    .dataframe tbody tr th {\n",
       "        vertical-align: top;\n",
       "    }\n",
       "\n",
       "    .dataframe thead th {\n",
       "        text-align: right;\n",
       "    }\n",
       "</style>\n",
       "<table border=\"1\" class=\"dataframe\">\n",
       "  <thead>\n",
       "    <tr style=\"text-align: right;\">\n",
       "      <th></th>\n",
       "      <th>id</th>\n",
       "      <th>user_id</th>\n",
       "      <th>datestamp</th>\n",
       "      <th>r</th>\n",
       "      <th>g</th>\n",
       "      <th>b</th>\n",
       "      <th>colorname</th>\n",
       "      <th>color_green</th>\n",
       "      <th>color_red</th>\n",
       "      <th>color_pink</th>\n",
       "      <th>color_blue</th>\n",
       "      <th>color_orange</th>\n",
       "      <th>color_yellow</th>\n",
       "      <th>color_purple</th>\n",
       "      <th>color_tan</th>\n",
       "    </tr>\n",
       "  </thead>\n",
       "  <tbody>\n",
       "    <tr>\n",
       "      <th>0</th>\n",
       "      <td>2102379</td>\n",
       "      <td>95339</td>\n",
       "      <td>2010-03-15 21:30:48</td>\n",
       "      <td>99</td>\n",
       "      <td>23</td>\n",
       "      <td>111</td>\n",
       "      <td>purple</td>\n",
       "      <td>0</td>\n",
       "      <td>0</td>\n",
       "      <td>0</td>\n",
       "      <td>0</td>\n",
       "      <td>0</td>\n",
       "      <td>0</td>\n",
       "      <td>1</td>\n",
       "      <td>0</td>\n",
       "    </tr>\n",
       "    <tr>\n",
       "      <th>1</th>\n",
       "      <td>4130</td>\n",
       "      <td>166</td>\n",
       "      <td>2010-03-01 06:31:11</td>\n",
       "      <td>191</td>\n",
       "      <td>81</td>\n",
       "      <td>74</td>\n",
       "      <td>salmony-pink</td>\n",
       "      <td>0</td>\n",
       "      <td>0</td>\n",
       "      <td>1</td>\n",
       "      <td>0</td>\n",
       "      <td>0</td>\n",
       "      <td>0</td>\n",
       "      <td>0</td>\n",
       "      <td>0</td>\n",
       "    </tr>\n",
       "    <tr>\n",
       "      <th>2</th>\n",
       "      <td>2644842</td>\n",
       "      <td>118740</td>\n",
       "      <td>2010-03-22 18:33:06</td>\n",
       "      <td>198</td>\n",
       "      <td>128</td>\n",
       "      <td>109</td>\n",
       "      <td>red tan</td>\n",
       "      <td>0</td>\n",
       "      <td>1</td>\n",
       "      <td>0</td>\n",
       "      <td>0</td>\n",
       "      <td>0</td>\n",
       "      <td>0</td>\n",
       "      <td>0</td>\n",
       "      <td>1</td>\n",
       "    </tr>\n",
       "    <tr>\n",
       "      <th>3</th>\n",
       "      <td>2405676</td>\n",
       "      <td>108250</td>\n",
       "      <td>2010-03-19 06:33:03</td>\n",
       "      <td>55</td>\n",
       "      <td>34</td>\n",
       "      <td>6</td>\n",
       "      <td>black</td>\n",
       "      <td>0</td>\n",
       "      <td>0</td>\n",
       "      <td>0</td>\n",
       "      <td>0</td>\n",
       "      <td>0</td>\n",
       "      <td>0</td>\n",
       "      <td>0</td>\n",
       "      <td>0</td>\n",
       "    </tr>\n",
       "    <tr>\n",
       "      <th>4</th>\n",
       "      <td>2384434</td>\n",
       "      <td>107334</td>\n",
       "      <td>2010-03-19 02:44:38</td>\n",
       "      <td>166</td>\n",
       "      <td>132</td>\n",
       "      <td>201</td>\n",
       "      <td>joy''s headband</td>\n",
       "      <td>0</td>\n",
       "      <td>0</td>\n",
       "      <td>0</td>\n",
       "      <td>0</td>\n",
       "      <td>0</td>\n",
       "      <td>0</td>\n",
       "      <td>0</td>\n",
       "      <td>0</td>\n",
       "    </tr>\n",
       "  </tbody>\n",
       "</table>\n",
       "</div>"
      ],
      "text/plain": [
       "        id  user_id           datestamp    r    g    b        colorname  \\\n",
       "0  2102379    95339 2010-03-15 21:30:48   99   23  111           purple   \n",
       "1     4130      166 2010-03-01 06:31:11  191   81   74     salmony-pink   \n",
       "2  2644842   118740 2010-03-22 18:33:06  198  128  109          red tan   \n",
       "3  2405676   108250 2010-03-19 06:33:03   55   34    6            black   \n",
       "4  2384434   107334 2010-03-19 02:44:38  166  132  201  joy''s headband   \n",
       "\n",
       "   color_green  color_red  color_pink  color_blue  color_orange  color_yellow  \\\n",
       "0            0          0           0           0             0             0   \n",
       "1            0          0           1           0             0             0   \n",
       "2            0          1           0           0             0             0   \n",
       "3            0          0           0           0             0             0   \n",
       "4            0          0           0           0             0             0   \n",
       "\n",
       "   color_purple  color_tan  \n",
       "0             1          0  \n",
       "1             0          0  \n",
       "2             0          1  \n",
       "3             0          0  \n",
       "4             0          0  "
      ]
     },
     "execution_count": 48,
     "metadata": {},
     "output_type": "execute_result"
    }
   ],
   "source": [
    "data.head()"
   ]
  },
  {
   "cell_type": "code",
   "execution_count": 49,
   "metadata": {},
   "outputs": [
    {
     "data": {
      "text/plain": [
       "Index(['id', 'user_id', 'datestamp', 'r', 'g', 'b', 'colorname', 'color_green',\n",
       "       'color_red', 'color_pink', 'color_blue', 'color_orange', 'color_yellow',\n",
       "       'color_purple', 'color_tan'],\n",
       "      dtype='object')"
      ]
     },
     "execution_count": 49,
     "metadata": {},
     "output_type": "execute_result"
    }
   ],
   "source": [
    "data.columns"
   ]
  },
  {
   "cell_type": "code",
   "execution_count": 50,
   "metadata": {
    "scrolled": true
   },
   "outputs": [
    {
     "data": {
      "text/plain": [
       "(3363295, 15)"
      ]
     },
     "execution_count": 50,
     "metadata": {},
     "output_type": "execute_result"
    }
   ],
   "source": [
    "data.shape"
   ]
  },
  {
   "cell_type": "code",
   "execution_count": 51,
   "metadata": {},
   "outputs": [],
   "source": [
    "from pandas.api.types import is_string_dtype, is_numeric_dtype"
   ]
  },
  {
   "cell_type": "code",
   "execution_count": 52,
   "metadata": {},
   "outputs": [
    {
     "name": "stdout",
     "output_type": "stream",
     "text": [
      "['colorname']\n"
     ]
    }
   ],
   "source": [
    "# Extract all string-type columns\n",
    "cols_str = []\n",
    "for col in data:\n",
    "    if is_string_dtype(data[col]):\n",
    "        cols_str.append(col)\n",
    "print(cols_str)"
   ]
  },
  {
   "cell_type": "code",
   "execution_count": 53,
   "metadata": {},
   "outputs": [],
   "source": [
    "#make all string type variables to categorical variables.\n",
    "for col in data:\n",
    "    if is_string_dtype(data[col]):\n",
    "        data[col] = data[col].astype('category').cat.as_ordered()"
   ]
  },
  {
   "cell_type": "code",
   "execution_count": 54,
   "metadata": {},
   "outputs": [],
   "source": [
    "#Convert categorical variables to their numberic representations.\n",
    "for col in data:\n",
    "    if str(data[col].dtype) == \"category\":\n",
    "        data[col] = data[col].cat.codes + 1"
   ]
  },
  {
   "cell_type": "code",
   "execution_count": 55,
   "metadata": {},
   "outputs": [],
   "source": [
    "#small_data_1.iloc[:,6]"
   ]
  },
  {
   "cell_type": "code",
   "execution_count": 56,
   "metadata": {},
   "outputs": [],
   "source": [
    "a= data['colorname'].value_counts()\n",
    "b=dict(a)\n",
    "c=list(b.keys())"
   ]
  },
  {
   "cell_type": "code",
   "execution_count": 57,
   "metadata": {},
   "outputs": [
    {
     "name": "stdout",
     "output_type": "stream",
     "text": [
      "(207, 15)\n"
     ]
    }
   ],
   "source": [
    "N=100\n",
    "data3=data[data.colorname.isin(c[:N])]\n",
    "print(data3.shape)"
   ]
  },
  {
   "cell_type": "code",
   "execution_count": 58,
   "metadata": {},
   "outputs": [
    {
     "data": {
      "text/html": [
       "<div>\n",
       "<style scoped>\n",
       "    .dataframe tbody tr th:only-of-type {\n",
       "        vertical-align: middle;\n",
       "    }\n",
       "\n",
       "    .dataframe tbody tr th {\n",
       "        vertical-align: top;\n",
       "    }\n",
       "\n",
       "    .dataframe thead th {\n",
       "        text-align: right;\n",
       "    }\n",
       "</style>\n",
       "<table border=\"1\" class=\"dataframe\">\n",
       "  <thead>\n",
       "    <tr style=\"text-align: right;\">\n",
       "      <th></th>\n",
       "      <th>id</th>\n",
       "      <th>user_id</th>\n",
       "      <th>datestamp</th>\n",
       "      <th>r</th>\n",
       "      <th>g</th>\n",
       "      <th>b</th>\n",
       "      <th>colorname</th>\n",
       "      <th>color_green</th>\n",
       "      <th>color_red</th>\n",
       "      <th>color_pink</th>\n",
       "      <th>color_blue</th>\n",
       "      <th>color_orange</th>\n",
       "      <th>color_yellow</th>\n",
       "      <th>color_purple</th>\n",
       "      <th>color_tan</th>\n",
       "    </tr>\n",
       "  </thead>\n",
       "  <tbody>\n",
       "    <tr>\n",
       "      <th>1398</th>\n",
       "      <td>343221</td>\n",
       "      <td>16435</td>\n",
       "      <td>2010-03-02 06:20:54</td>\n",
       "      <td>64</td>\n",
       "      <td>142</td>\n",
       "      <td>235</td>\n",
       "      <td>74</td>\n",
       "      <td>0</td>\n",
       "      <td>0</td>\n",
       "      <td>0</td>\n",
       "      <td>1</td>\n",
       "      <td>0</td>\n",
       "      <td>0</td>\n",
       "      <td>0</td>\n",
       "      <td>0</td>\n",
       "    </tr>\n",
       "    <tr>\n",
       "      <th>4172</th>\n",
       "      <td>1759209</td>\n",
       "      <td>79929</td>\n",
       "      <td>2010-03-11 19:24:47</td>\n",
       "      <td>23</td>\n",
       "      <td>29</td>\n",
       "      <td>187</td>\n",
       "      <td>74</td>\n",
       "      <td>0</td>\n",
       "      <td>0</td>\n",
       "      <td>0</td>\n",
       "      <td>1</td>\n",
       "      <td>0</td>\n",
       "      <td>0</td>\n",
       "      <td>0</td>\n",
       "      <td>0</td>\n",
       "    </tr>\n",
       "    <tr>\n",
       "      <th>23333</th>\n",
       "      <td>401681</td>\n",
       "      <td>18512</td>\n",
       "      <td>2010-03-02 16:06:32</td>\n",
       "      <td>255</td>\n",
       "      <td>64</td>\n",
       "      <td>237</td>\n",
       "      <td>39</td>\n",
       "      <td>0</td>\n",
       "      <td>0</td>\n",
       "      <td>0</td>\n",
       "      <td>0</td>\n",
       "      <td>0</td>\n",
       "      <td>0</td>\n",
       "      <td>0</td>\n",
       "      <td>0</td>\n",
       "    </tr>\n",
       "    <tr>\n",
       "      <th>37740</th>\n",
       "      <td>2059723</td>\n",
       "      <td>93454</td>\n",
       "      <td>2010-03-15 13:24:24</td>\n",
       "      <td>179</td>\n",
       "      <td>173</td>\n",
       "      <td>132</td>\n",
       "      <td>66</td>\n",
       "      <td>0</td>\n",
       "      <td>0</td>\n",
       "      <td>0</td>\n",
       "      <td>0</td>\n",
       "      <td>0</td>\n",
       "      <td>0</td>\n",
       "      <td>0</td>\n",
       "      <td>0</td>\n",
       "    </tr>\n",
       "    <tr>\n",
       "      <th>59180</th>\n",
       "      <td>2610653</td>\n",
       "      <td>117160</td>\n",
       "      <td>2010-03-22 07:11:46</td>\n",
       "      <td>20</td>\n",
       "      <td>89</td>\n",
       "      <td>201</td>\n",
       "      <td>74</td>\n",
       "      <td>0</td>\n",
       "      <td>0</td>\n",
       "      <td>0</td>\n",
       "      <td>1</td>\n",
       "      <td>0</td>\n",
       "      <td>0</td>\n",
       "      <td>0</td>\n",
       "      <td>0</td>\n",
       "    </tr>\n",
       "  </tbody>\n",
       "</table>\n",
       "</div>"
      ],
      "text/plain": [
       "            id  user_id           datestamp    r    g    b  colorname  \\\n",
       "1398    343221    16435 2010-03-02 06:20:54   64  142  235         74   \n",
       "4172   1759209    79929 2010-03-11 19:24:47   23   29  187         74   \n",
       "23333   401681    18512 2010-03-02 16:06:32  255   64  237         39   \n",
       "37740  2059723    93454 2010-03-15 13:24:24  179  173  132         66   \n",
       "59180  2610653   117160 2010-03-22 07:11:46   20   89  201         74   \n",
       "\n",
       "       color_green  color_red  color_pink  color_blue  color_orange  \\\n",
       "1398             0          0           0           1             0   \n",
       "4172             0          0           0           1             0   \n",
       "23333            0          0           0           0             0   \n",
       "37740            0          0           0           0             0   \n",
       "59180            0          0           0           1             0   \n",
       "\n",
       "       color_yellow  color_purple  color_tan  \n",
       "1398              0             0          0  \n",
       "4172              0             0          0  \n",
       "23333             0             0          0  \n",
       "37740             0             0          0  \n",
       "59180             0             0          0  "
      ]
     },
     "execution_count": 58,
     "metadata": {},
     "output_type": "execute_result"
    }
   ],
   "source": [
    "data3.head()"
   ]
  },
  {
   "cell_type": "code",
   "execution_count": 59,
   "metadata": {},
   "outputs": [],
   "source": [
    "# Split the data into features and target label\n",
    "y1 = data3.iloc[:,7:].values\n",
    "X1 = data3.iloc[:,3:6].values\n",
    "\n",
    "#y = np.array(sub_data['colorname'])\n",
    "#X = np.array(sub_data.drop(['colorname', 'datestamp'], axis = 1))"
   ]
  },
  {
   "cell_type": "code",
   "execution_count": 60,
   "metadata": {},
   "outputs": [
    {
     "data": {
      "text/plain": [
       "DecisionTreeClassifier(class_weight=None, criterion='gini', max_depth=None,\n",
       "            max_features=None, max_leaf_nodes=None,\n",
       "            min_impurity_decrease=0.0, min_impurity_split=None,\n",
       "            min_samples_leaf=1, min_samples_split=2,\n",
       "            min_weight_fraction_leaf=0.0, presort=False, random_state=0,\n",
       "            splitter='best')"
      ]
     },
     "execution_count": 60,
     "metadata": {},
     "output_type": "execute_result"
    }
   ],
   "source": [
    "# train and test splitting the data\n",
    "X1_train, X1_test, y1_train, y1_test = train_test_split(X1, y1, test_size = 0.33, random_state = 0)\n",
    "\n",
    "clf = DecisionTreeClassifier(random_state=0)\n",
    "clf.fit(X1_train, y1_train)"
   ]
  },
  {
   "cell_type": "code",
   "execution_count": 61,
   "metadata": {},
   "outputs": [
    {
     "name": "stdout",
     "output_type": "stream",
     "text": [
      "Test_Accuracy: 0.61\n",
      "Train_Accuracy: 1.00\n"
     ]
    }
   ],
   "source": [
    "print(\"Test_Accuracy: {:.2f}\".format(clf.score(X1_test, y1_test)))\n",
    "print(\"Train_Accuracy: {:.2f}\".format(clf.score(X1_train, y1_train)))"
   ]
  },
  {
   "cell_type": "code",
   "execution_count": 62,
   "metadata": {},
   "outputs": [],
   "source": [
    "f=np.array([102,226,245]).reshape(1,-1)\n",
    "color_list=list(data3.columns[7:].values)\n",
    "pred = clf.predict(f)"
   ]
  },
  {
   "cell_type": "code",
   "execution_count": 63,
   "metadata": {},
   "outputs": [],
   "source": [
    "idx= pred.tolist()[0].index(1,0)\n",
    "#print(colors_list[idx])"
   ]
  },
  {
   "cell_type": "markdown",
   "metadata": {},
   "source": [
    "Custom Binary shows better accuracy than on hot encoding"
   ]
  }
 ],
 "metadata": {
  "kernelspec": {
   "display_name": "Python 3",
   "language": "python",
   "name": "python3"
  },
  "language_info": {
   "codemirror_mode": {
    "name": "ipython",
    "version": 3
   },
   "file_extension": ".py",
   "mimetype": "text/x-python",
   "name": "python",
   "nbconvert_exporter": "python",
   "pygments_lexer": "ipython3",
   "version": "3.5.6"
  }
 },
 "nbformat": 4,
 "nbformat_minor": 2
}
